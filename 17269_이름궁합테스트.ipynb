{
 "cells": [
  {
   "cell_type": "code",
   "execution_count": 1,
   "id": "4c9be0f6",
   "metadata": {
    "scrolled": true
   },
   "outputs": [
    {
     "name": "stdout",
     "output_type": "stream",
     "text": [
      "2 2\n",
      "AB CD\n"
     ]
    }
   ],
   "source": [
    "N, M = map(int,input(). split())\n",
    "A, B = input(). split()"
   ]
  },
  {
   "cell_type": "code",
   "execution_count": 2,
   "id": "8742e518",
   "metadata": {},
   "outputs": [],
   "source": [
    "apl = [3, 2, 1, 2, 4, 3, 1, 3, 1, 1, 3, 1, 3, 2, 1, 2, 2, 2, 1, 2, 1, 1, 1 ,2 ,2, 1 ]"
   ]
  },
  {
   "cell_type": "code",
   "execution_count": 3,
   "id": "28ec0260",
   "metadata": {},
   "outputs": [
    {
     "name": "stdout",
     "output_type": "stream",
     "text": [
      "77\n"
     ]
    }
   ],
   "source": [
    "AB = ''\n",
    "min_len = min(N, M)\n",
    "for i in range(min_len):\n",
    "    AB += A[i] + B[i]\n",
    "    \n",
    "AB += A[min_len:] + B[min_len:]\n",
    "\n",
    "lst = [apl[ord(i)-ord('A')] for i in AB]\n",
    "\n",
    "for i in range(N+M-2):\n",
    "    for j in range(N+M-1-i):\n",
    "        lst[j] += lst[j+1]\n",
    "        \n",
    "print(\"{}\".format(lst[0] % 10*10 + lst[1] % 10))"
   ]
  },
  {
   "cell_type": "code",
   "execution_count": null,
   "id": "d1fcd592",
   "metadata": {},
   "outputs": [],
   "source": []
  }
 ],
 "metadata": {
  "kernelspec": {
   "display_name": "Python 3 (ipykernel)",
   "language": "python",
   "name": "python3"
  },
  "language_info": {
   "codemirror_mode": {
    "name": "ipython",
    "version": 3
   },
   "file_extension": ".py",
   "mimetype": "text/x-python",
   "name": "python",
   "nbconvert_exporter": "python",
   "pygments_lexer": "ipython3",
   "version": "3.7.0"
  },
  "toc": {
   "base_numbering": 1,
   "nav_menu": {},
   "number_sections": true,
   "sideBar": true,
   "skip_h1_title": false,
   "title_cell": "Table of Contents",
   "title_sidebar": "Contents",
   "toc_cell": false,
   "toc_position": {},
   "toc_section_display": true,
   "toc_window_display": false
  }
 },
 "nbformat": 4,
 "nbformat_minor": 5
}
