{
 "cells": [
  {
   "cell_type": "code",
   "execution_count": null,
   "id": "b1e4dc7b",
   "metadata": {},
   "outputs": [],
   "source": [
    "###\n",
    "하노이의 탑\n",
    "하노이의 탑 게임 아시나요? 이 게임의 목표는 왼쪽 기둥에 있는 원판들을 모두 오른쪽 기둥으로 옮기는 것입니다. 지켜야할 규칙은 두가지입니다:\n",
    "\n",
    "한 번에 하나의 원판만 옮길 수 있다.\n",
    "큰 원판이 작은 원판 위에 있어서는 안 된다.\n",
    "###"
   ]
  },
  {
   "cell_type": "code",
   "execution_count": 1,
   "id": "5cec46a2",
   "metadata": {},
   "outputs": [
    {
     "name": "stdout",
     "output_type": "stream",
     "text": [
      "1번 원판을 1번 기둥에서 3번 기둥으로 이동\n",
      "2번 원판을 1번 기둥에서 2번 기둥으로 이동\n",
      "1번 원판을 3번 기둥에서 2번 기둥으로 이동\n",
      "3번 원판을 1번 기둥에서 3번 기둥으로 이동\n",
      "1번 원판을 2번 기둥에서 1번 기둥으로 이동\n",
      "2번 원판을 2번 기둥에서 3번 기둥으로 이동\n",
      "1번 원판을 1번 기둥에서 3번 기둥으로 이동\n"
     ]
    }
   ],
   "source": [
    "def move_disk(disk_num, start_peg, end_peg):\n",
    "    print(\"%d번 원판을 %d번 기둥에서 %d번 기둥으로 이동\" % (disk_num, start_peg, end_peg))\n",
    "\n",
    "def hanoi(num_disks, start_peg, end_peg):\n",
    "    # base case: 옮길 원판이 없으면 부분 문제를 나누지 않고 함수를 끝낸다\n",
    "    if num_disks == 0:\n",
    "        return\n",
    "    else:\n",
    "        other_peg = 6 - start_peg - end_peg\n",
    "        \n",
    "        # 1. 가장 큰 원판을 제외하고 나머지 원판들을 start_peg에서 other_peg로 이동\n",
    "        hanoi(num_disks - 1, start_peg, other_peg)\n",
    "        \n",
    "        # 2. 가장 큰 원판을 start_peg에서 end_peg로 이동\n",
    "        move_disk(num_disks, start_peg, end_peg)\n",
    "        \n",
    "        # 3. 나머지 원판들을 other_peg에서 end_peg로 이동\n",
    "        hanoi(num_disks - 1, other_peg, end_peg)\n",
    "\n",
    "# 테스트 코드 (포함하여 제출해주세요)\n",
    "hanoi(3, 1, 3)"
   ]
  },
  {
   "cell_type": "code",
   "execution_count": null,
   "id": "193c1705",
   "metadata": {},
   "outputs": [],
   "source": []
  }
 ],
 "metadata": {
  "kernelspec": {
   "display_name": "Python 3 (ipykernel)",
   "language": "python",
   "name": "python3"
  },
  "language_info": {
   "codemirror_mode": {
    "name": "ipython",
    "version": 3
   },
   "file_extension": ".py",
   "mimetype": "text/x-python",
   "name": "python",
   "nbconvert_exporter": "python",
   "pygments_lexer": "ipython3",
   "version": "3.7.0"
  },
  "toc": {
   "base_numbering": 1,
   "nav_menu": {},
   "number_sections": true,
   "sideBar": true,
   "skip_h1_title": false,
   "title_cell": "Table of Contents",
   "title_sidebar": "Contents",
   "toc_cell": false,
   "toc_position": {},
   "toc_section_display": true,
   "toc_window_display": false
  }
 },
 "nbformat": 4,
 "nbformat_minor": 5
}
