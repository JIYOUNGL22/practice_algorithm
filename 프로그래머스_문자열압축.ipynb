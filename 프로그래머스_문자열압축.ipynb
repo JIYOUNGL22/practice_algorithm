{
 "cells": [
  {
   "cell_type": "code",
   "execution_count": null,
   "source": [
    "def solution(phone_book):\n",
    "    for phone in phone_book : \n",
    "        temp = ''\n",
    "        for num in phone :\n",
    "            temp += num\n",
    "            if temp in phone_book and temp != phone : \n",
    "                return False\n",
    "    return True"
   ],
   "outputs": [],
   "metadata": {}
  }
 ],
 "metadata": {
  "orig_nbformat": 4,
  "language_info": {
   "name": "python"
  }
 },
 "nbformat": 4,
 "nbformat_minor": 2
}