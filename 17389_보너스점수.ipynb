{
 "cells": [
  {
   "cell_type": "code",
   "execution_count": 12,
   "id": "4f03c944",
   "metadata": {},
   "outputs": [
    {
     "name": "stdout",
     "output_type": "stream",
     "text": [
      "8\n",
      "XOOOXOOX\n"
     ]
    }
   ],
   "source": [
    "N, S = input(), input()"
   ]
  },
  {
   "cell_type": "code",
   "execution_count": 13,
   "id": "876161b5",
   "metadata": {},
   "outputs": [
    {
     "name": "stdout",
     "output_type": "stream",
     "text": [
      "26\n"
     ]
    }
   ],
   "source": [
    "score, bonus = 0, 0\n",
    "\n",
    "for idx, OX in enumerate(S):\n",
    "    if OX == \"O\":\n",
    "        score += idx+1+bonus\n",
    "        bonus += 1\n",
    "    else:\n",
    "        bonus = 0\n",
    "        \n",
    "print(score)"
   ]
  },
  {
   "cell_type": "code",
   "execution_count": 15,
   "id": "7e06a66c",
   "metadata": {},
   "outputs": [
    {
     "name": "stdout",
     "output_type": "stream",
     "text": [
      "8\n",
      "XOOOXOOX\n"
     ]
    }
   ],
   "source": [
    "N, S = input(), input()"
   ]
  },
  {
   "cell_type": "code",
   "execution_count": 16,
   "id": "9bfaa1dc",
   "metadata": {},
   "outputs": [
    {
     "name": "stdout",
     "output_type": "stream",
     "text": [
      "0\n"
     ]
    }
   ],
   "source": [
    "score, bonus = 0, 0\n",
    "\n",
    "for idx, OX in enumerate(S):\n",
    "    if OX == 'O':\n",
    "        socre, bonus = score + idx + 1 + bonus, bonus + 1\n",
    "    else:\n",
    "        bonus = 0\n",
    "        \n",
    "print(score)"
   ]
  },
  {
   "cell_type": "code",
   "execution_count": null,
   "id": "08f02d57",
   "metadata": {},
   "outputs": [],
   "source": []
  }
 ],
 "metadata": {
  "kernelspec": {
   "display_name": "Python 3 (ipykernel)",
   "language": "python",
   "name": "python3"
  },
  "language_info": {
   "codemirror_mode": {
    "name": "ipython",
    "version": 3
   },
   "file_extension": ".py",
   "mimetype": "text/x-python",
   "name": "python",
   "nbconvert_exporter": "python",
   "pygments_lexer": "ipython3",
   "version": "3.7.0"
  },
  "toc": {
   "base_numbering": 1,
   "nav_menu": {},
   "number_sections": true,
   "sideBar": true,
   "skip_h1_title": false,
   "title_cell": "Table of Contents",
   "title_sidebar": "Contents",
   "toc_cell": false,
   "toc_position": {},
   "toc_section_display": true,
   "toc_window_display": false
  }
 },
 "nbformat": 4,
 "nbformat_minor": 5
}
