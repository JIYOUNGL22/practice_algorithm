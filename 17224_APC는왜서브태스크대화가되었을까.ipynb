{
 "cells": [
  {
   "cell_type": "code",
   "execution_count": 3,
   "id": "b9f65114",
   "metadata": {},
   "outputs": [
    {
     "name": "stdout",
     "output_type": "stream",
     "text": [
      "4 8 4\n",
      "1 8\n",
      "4 5\n",
      "6 20\n",
      "9 12\n",
      "380\n"
     ]
    }
   ],
   "source": [
    "N, L, K = map(int, input().split())\n",
    "\n",
    "easy, hard = 0, 0\n",
    "\n",
    "for i in range(N):\n",
    "    sub1, sub2 = map(int, input().split())\n",
    "    if sub2 <= L:\n",
    "        hard += 1\n",
    "    elif sub1 <= L:\n",
    "        easy += 1\n",
    "#hard 문제\n",
    "ans = min(hard, K) * 140\n",
    "\n",
    "# easy 문제\n",
    "if hard < K:\n",
    "    ans += min(K-hard, easy) * 100\n",
    "    \n",
    "print(ans)"
   ]
  },
  {
   "cell_type": "code",
   "execution_count": null,
   "id": "efb65684",
   "metadata": {},
   "outputs": [],
   "source": []
  }
 ],
 "metadata": {
  "kernelspec": {
   "display_name": "Python 3 (ipykernel)",
   "language": "python",
   "name": "python3"
  },
  "language_info": {
   "codemirror_mode": {
    "name": "ipython",
    "version": 3
   },
   "file_extension": ".py",
   "mimetype": "text/x-python",
   "name": "python",
   "nbconvert_exporter": "python",
   "pygments_lexer": "ipython3",
   "version": "3.7.0"
  },
  "toc": {
   "base_numbering": 1,
   "nav_menu": {},
   "number_sections": true,
   "sideBar": true,
   "skip_h1_title": false,
   "title_cell": "Table of Contents",
   "title_sidebar": "Contents",
   "toc_cell": false,
   "toc_position": {},
   "toc_section_display": true,
   "toc_window_display": false
  }
 },
 "nbformat": 4,
 "nbformat_minor": 5
}
