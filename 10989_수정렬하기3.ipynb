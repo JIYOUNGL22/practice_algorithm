{
 "cells": [
  {
   "cell_type": "code",
   "execution_count": null,
   "id": "a74150e9",
   "metadata": {},
   "outputs": [],
   "source": [
    "10\n",
    "5\n",
    "2\n",
    "3\n",
    "1\n",
    "4\n",
    "2\n",
    "3\n",
    "5\n",
    "1\n",
    "7"
   ]
  },
  {
   "cell_type": "code",
   "execution_count": null,
   "id": "3ee3d6fc",
   "metadata": {
    "ExecuteTime": {
     "end_time": "2021-09-16T10:09:32.095615Z",
     "start_time": "2021-09-16T10:09:32.080852Z"
    }
   },
   "outputs": [],
   "source": [
    "import sys\n",
    "\n",
    "n = sys.stdin.readline()\n",
    "num_list = int(n).retrip()\n",
    "\n",
    "array = [0] * 10001\n",
    "\n",
    "for i in range(num_list):\n",
    "    data = int(sys.stdin.readline())\n",
    "    array[data] +=1\n",
    "    \n",
    "for i in range(10001):\n",
    "    if array[i] != 0:\n",
    "        for j in range(array[i]):\n",
    "            print(i)"
   ]
  },
  {
   "cell_type": "code",
   "execution_count": null,
   "id": "413546d1",
   "metadata": {
    "ExecuteTime": {
     "end_time": "2021-09-16T09:55:26.289168Z",
     "start_time": "2021-09-16T09:55:26.279977Z"
    }
   },
   "outputs": [],
   "source": [
    "1\n",
    "1\n",
    "2\n",
    "2\n",
    "3\n",
    "3\n",
    "4\n",
    "5\n",
    "5\n",
    "7"
   ]
  }
 ],
 "metadata": {
  "kernelspec": {
   "display_name": "Python 3 (ipykernel)",
   "language": "python",
   "name": "python3"
  },
  "language_info": {
   "codemirror_mode": {
    "name": "ipython",
    "version": 3
   },
   "file_extension": ".py",
   "mimetype": "text/x-python",
   "name": "python",
   "nbconvert_exporter": "python",
   "pygments_lexer": "ipython3",
   "version": "3.7.0"
  },
  "toc": {
   "base_numbering": 1,
   "nav_menu": {},
   "number_sections": true,
   "sideBar": true,
   "skip_h1_title": false,
   "title_cell": "Table of Contents",
   "title_sidebar": "Contents",
   "toc_cell": false,
   "toc_position": {},
   "toc_section_display": true,
   "toc_window_display": false
  }
 },
 "nbformat": 4,
 "nbformat_minor": 5
}
