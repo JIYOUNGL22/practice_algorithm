{
 "cells": [
  {
   "cell_type": "code",
   "execution_count": 3,
   "id": "df7d2125",
   "metadata": {
    "ExecuteTime": {
     "end_time": "2023-11-29T00:10:25.594995Z",
     "start_time": "2023-11-29T00:10:22.128788Z"
    }
   },
   "outputs": [
    {
     "name": "stdout",
     "output_type": "stream",
     "text": [
      "결과가 'result_output.xlsx' 파일로 저장되었습니다.\n"
     ]
    }
   ],
   "source": [
    "import pandas as pd\n",
    "\n",
    "path = 'C:/Users/dij339/Documents/Python Scripts/test.xlsx'\n",
    "\n",
    "df = pd.read_excel(path, header=None, names=[\"sentence\"])\n",
    "\n",
    "# 찾을 키워드 리스트\n",
    "keywords = [\"찾을 키워드 입력,리스트형식\"]\n",
    "\n",
    "# 문장에서 각 키워드를 찾아내기\n",
    "matching_sentences = []\n",
    "\n",
    "for index, row in df.iterrows():\n",
    "    sentence = row['sentence']\n",
    "    matching_words = [word for word in keywords if word in sentence]\n",
    "\n",
    "    if matching_words:\n",
    "        matching_sentences.append((index + 1, sentence, matching_words))\n",
    "\n",
    "# 결과를 DataFrame으로 변환\n",
    "result_df = pd.DataFrame(matching_sentences, columns=['Index', 'Sentence', 'Matching Keywords'])\n",
    "\n",
    "# print(result_df)\n",
    "# 결과를 새로운 엑셀 파일로 저장\n",
    "result_excel_path = 'result_output.xlsx'\n",
    "result_df.to_excel(result_excel_path, index=False)\n",
    "\n",
    "print(f\"결과가 '{result_excel_path}' 파일로 저장되었습니다.\")\n"
   ]
  },
  {
   "cell_type": "code",
   "execution_count": null,
   "id": "beeae11a",
   "metadata": {},
   "outputs": [],
   "source": []
  }
 ],
 "metadata": {
  "kernelspec": {
   "display_name": "Python 3 (ipykernel)",
   "language": "python",
   "name": "python3"
  },
  "language_info": {
   "codemirror_mode": {
    "name": "ipython",
    "version": 3
   },
   "file_extension": ".py",
   "mimetype": "text/x-python",
   "name": "python",
   "nbconvert_exporter": "python",
   "pygments_lexer": "ipython3",
   "version": "3.11.3"
  }
 },
 "nbformat": 4,
 "nbformat_minor": 5
}
