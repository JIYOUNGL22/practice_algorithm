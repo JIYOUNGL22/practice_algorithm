{
 "cells": [
  {
   "cell_type": "code",
   "execution_count": 3,
   "id": "4edbfd70",
   "metadata": {
    "ExecuteTime": {
     "end_time": "2023-11-29T00:10:25.594995Z",
     "start_time": "2023-11-29T00:10:22.128788Z"
    }
   },
   "outputs": [
    {
     "name": "stdout",
     "output_type": "stream",
     "text": [
      "결과가 'result_output.xlsx' 파일로 저장되었습니다.\n"
     ]
    }
   ],
   "source": [
    "import pandas as pd\n",
    "\n",
    "path = 'C:/Users/dij339/Documents/Python Scripts/test.xlsx'\n",
    "\n",
    "df = pd.read_excel(path, header=None, names=[\"sentence\"])\n",
    "\n",
    "# 찾을 키워드 리스트\n",
    "keywords = [\"계정\", \"결의\", \"상신\", \"결재\", \"증빙\", \"일자\", \"계산서\", \"오류\", \"금액\", \"내역\", \"출장\", \"비용\", \"세금\", \"명세서\", \"검수\", \"지급\",\n",
    "            \"계좌\", \"신청서\", \"날짜\", \"회계\", \"회의록\", \"영수증\", \"카드\", \"예산\", \"비용 코드\", \"입금\", \"부가세\", \"파일\", \"회의\", \"과제\", \"원장\", \"물품 검수\",\n",
    "            \"상신 요청\", \"식대\", \"경비\", \"적요\", \"거래 명세서\", \"차량\", \"상신 부탁\", \"업체\", \"추진비\", \"잔액\", \"납품\", \"회의비\", \"승인\", \"연구\", \"부족\", \"정산\",\n",
    "            \"연구원\", \"기재\", \"사본\", \"대체\", \"내역서\", \"대변\", \"담당자\", \"등록\", \"취소\", \"참석자\", \"초과\", \"세금 계산서\", \"거래처\", \"요금\", \"RCMS\", \"회계 코드\",\n",
    "            \"통장\", \"청구\", \"참여\", \"과세\", \"문서\", \"수량\", \"전결\", \"관리비\", \"기안\", \"확인 요청\", \"야근\", \"전문가\", \"감사\", \"자산\", \"구매\", \"결의 일자\", \"감사실장\",\n",
    "            \"수당\", \"책임자\", \"다과\", \"비목\", \"서명\", \"주소\", \"인쇄\", \"재료비\", \"감사실\", \"전표\", \"출장비\", \"출장 신청서\", \"사유서\", \"차변\", \"공제\", \"사진\", \"실장\",\n",
    "            \"세액\", \"단가\", \"학회\", \"교육\", \"수정 요청\", \"시간\", \"연구비\", \"대표자\", \"가수금\", \"납품 일자\", \"송금\", \"사업비\", \"부서\", \"안내\", \"중복\", \"박사\", \"기타 경비\",\n",
    "            \"결제\", \"기간\", \"법인\", \"인건비\", \"기관\", \"과세 계정\", \"첨부 요청\", \"단가표\", \"계획서\", \"업무 추진비\", \"사유\", \"계약\", \"증빙 서류\", \"서명록\", \"검사\", \"위원\",\n",
    "            \"식비\", \"첨부 파일\", \"용역\", \"운영비\", \"결재 라인\", \"대상\", \"등재\", \"사업장\", \"결산\", \"결의 서\", \"조서\", \"조정\", \"이력서\", \"통장 사본\", \"시험\", \"공문\", \"연료비\",\n",
    "            \"소득\", \"이용\", \"장비\", \"구입\", \"근무지\", \"계약서\", \"마감\", \"성명\", \"선수금\", \"계정 번호\", \"DM\", \"유선\", \"수수료\", \"인원\", \"미수금\", \"흡수\", \"센터\", \"계산\", \"지급\",\n",
    "            \"내역 내용\", \"현장 지로 내역\", \"현장 기장 내역\"]\n",
    "\n",
    "# 문장에서 각 키워드를 찾아내기\n",
    "matching_sentences = []\n",
    "\n",
    "for index, row in df.iterrows():\n",
    "    sentence = row['sentence']\n",
    "    matching_words = [word for word in keywords if word in sentence]\n",
    "\n",
    "    if matching_words:\n",
    "        matching_sentences.append((index + 1, sentence, matching_words))\n",
    "\n",
    "# 결과를 DataFrame으로 변환\n",
    "result_df = pd.DataFrame(matching_sentences, columns=['Index', 'Sentence', 'Matching Keywords'])\n",
    "\n",
    "# print(result_df)\n",
    "# 결과를 새로운 엑셀 파일로 저장\n",
    "result_excel_path = 'result_output.xlsx'\n",
    "result_df.to_excel(result_excel_path, index=False)\n",
    "\n",
    "print(f\"결과가 '{result_excel_path}' 파일로 저장되었습니다.\")\n"
   ]
  },
  {
   "cell_type": "code",
   "execution_count": null,
   "id": "044ded18",
   "metadata": {},
   "outputs": [],
   "source": []
  }
 ],
 "metadata": {
  "kernelspec": {
   "display_name": "Python 3 (ipykernel)",
   "language": "python",
   "name": "python3"
  },
  "language_info": {
   "codemirror_mode": {
    "name": "ipython",
    "version": 3
   },
   "file_extension": ".py",
   "mimetype": "text/x-python",
   "name": "python",
   "nbconvert_exporter": "python",
   "pygments_lexer": "ipython3",
   "version": "3.11.3"
  }
 },
 "nbformat": 4,
 "nbformat_minor": 5
}
