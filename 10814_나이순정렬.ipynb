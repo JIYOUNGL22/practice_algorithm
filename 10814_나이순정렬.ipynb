{
 "cells": [
  {
   "cell_type": "code",
   "execution_count": null,
   "id": "60a0e343",
   "metadata": {},
   "outputs": [],
   "source": [
    "3\n",
    "21 Junkyu\n",
    "21 Dohyun\n",
    "20 Sunyoung"
   ]
  },
  {
   "cell_type": "code",
   "execution_count": null,
   "id": "08ee906a",
   "metadata": {
    "ExecuteTime": {
     "end_time": "2021-09-16T09:26:57.515517Z",
     "start_time": "2021-09-16T09:26:46.774126Z"
    }
   },
   "outputs": [],
   "source": [
    "n = int(input())\n",
    "\n",
    "array = []\n",
    "\n",
    "for _ in range(n):\n",
    "    input_data = input().split(\" \")\n",
    "    arrary.append((int(input_data[0]), input_data[1]))\n",
    "    \n",
    "array = sorted(array, key=lambda x: x[0])\n",
    "\n",
    "for i in array:\n",
    "    print(i[0], i[1])"
   ]
  }
 ],
 "metadata": {
  "kernelspec": {
   "display_name": "Python 3 (ipykernel)",
   "language": "python",
   "name": "python3"
  },
  "language_info": {
   "codemirror_mode": {
    "name": "ipython",
    "version": 3
   },
   "file_extension": ".py",
   "mimetype": "text/x-python",
   "name": "python",
   "nbconvert_exporter": "python",
   "pygments_lexer": "ipython3",
   "version": "3.7.0"
  },
  "toc": {
   "base_numbering": 1,
   "nav_menu": {},
   "number_sections": true,
   "sideBar": true,
   "skip_h1_title": false,
   "title_cell": "Table of Contents",
   "title_sidebar": "Contents",
   "toc_cell": false,
   "toc_position": {},
   "toc_section_display": true,
   "toc_window_display": false
  }
 },
 "nbformat": 4,
 "nbformat_minor": 5
}
