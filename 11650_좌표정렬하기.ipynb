{
 "cells": [
  {
   "cell_type": "code",
   "execution_count": null,
   "id": "0e3386cb",
   "metadata": {},
   "outputs": [],
   "source": [
    "5\n",
    "3 4\n",
    "1 1\n",
    "1 -1\n",
    "2 2\n",
    "3 3"
   ]
  },
  {
   "cell_type": "code",
   "execution_count": 1,
   "id": "aeb2390d",
   "metadata": {
    "ExecuteTime": {
     "end_time": "2021-09-16T09:32:44.277733Z",
     "start_time": "2021-09-16T09:32:27.968099Z"
    }
   },
   "outputs": [
    {
     "name": "stdout",
     "output_type": "stream",
     "text": [
      "5\n",
      "3 4\n",
      "1 1\n",
      "1 -1\n",
      "2 2\n",
      "3 3\n",
      "1 -1\n",
      "1 1\n",
      "2 2\n",
      "3 3\n",
      "3 4\n"
     ]
    }
   ],
   "source": [
    "n = int(input())\n",
    "\n",
    "array = []\n",
    "\n",
    "for _ in range(n):\n",
    "    x, y = map(int, input().split(\" \"))\n",
    "    array.append((x, y))\n",
    "    \n",
    "array = sorted(array)\n",
    "\n",
    "for i in array:\n",
    "    print(i[0], i[1])"
   ]
  },
  {
   "cell_type": "code",
   "execution_count": null,
   "id": "3b5cd52e",
   "metadata": {},
   "outputs": [],
   "source": [
    "1 -1\n",
    "1 1\n",
    "2 2\n",
    "3 3\n",
    "3 4"
   ]
  }
 ],
 "metadata": {
  "kernelspec": {
   "display_name": "Python 3 (ipykernel)",
   "language": "python",
   "name": "python3"
  },
  "language_info": {
   "codemirror_mode": {
    "name": "ipython",
    "version": 3
   },
   "file_extension": ".py",
   "mimetype": "text/x-python",
   "name": "python",
   "nbconvert_exporter": "python",
   "pygments_lexer": "ipython3",
   "version": "3.7.0"
  },
  "toc": {
   "base_numbering": 1,
   "nav_menu": {},
   "number_sections": true,
   "sideBar": true,
   "skip_h1_title": false,
   "title_cell": "Table of Contents",
   "title_sidebar": "Contents",
   "toc_cell": false,
   "toc_position": {},
   "toc_section_display": true,
   "toc_window_display": false
  }
 },
 "nbformat": 4,
 "nbformat_minor": 5
}
