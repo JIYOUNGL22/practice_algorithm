{
 "cells": [
  {
   "cell_type": "code",
   "execution_count": 3,
   "id": "ee8f6311",
   "metadata": {},
   "outputs": [
    {
     "name": "stdout",
     "output_type": "stream",
     "text": [
      "1 2 3 4 5 6 4 7 8\n",
      "mixed\n"
     ]
    }
   ],
   "source": [
    "a = list(map(int, input().split(\" \")))\n",
    "\n",
    "ascending = True\n",
    "descending = True\n",
    "\n",
    "for i in range(1, 8):\n",
    "    if a[i] > a[i - 1]:\n",
    "        descending = False\n",
    "    elif a[i] < a[i - 1]:\n",
    "        ascending = False\n",
    "        \n",
    "if ascending:\n",
    "    print(\"ascending\")\n",
    "elif descending:\n",
    "    print(\"descending\")\n",
    "else:\n",
    "    print(\"mixed\")"
   ]
  },
  {
   "cell_type": "code",
   "execution_count": null,
   "id": "7c9070fa",
   "metadata": {},
   "outputs": [],
   "source": []
  }
 ],
 "metadata": {
  "kernelspec": {
   "display_name": "Python 3 (ipykernel)",
   "language": "python",
   "name": "python3"
  },
  "language_info": {
   "codemirror_mode": {
    "name": "ipython",
    "version": 3
   },
   "file_extension": ".py",
   "mimetype": "text/x-python",
   "name": "python",
   "nbconvert_exporter": "python",
   "pygments_lexer": "ipython3",
   "version": "3.7.0"
  },
  "toc": {
   "base_numbering": 1,
   "nav_menu": {},
   "number_sections": true,
   "sideBar": true,
   "skip_h1_title": false,
   "title_cell": "Table of Contents",
   "title_sidebar": "Contents",
   "toc_cell": false,
   "toc_position": {},
   "toc_section_display": true,
   "toc_window_display": false
  }
 },
 "nbformat": 4,
 "nbformat_minor": 5
}
