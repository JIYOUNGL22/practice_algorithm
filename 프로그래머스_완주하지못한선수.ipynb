{
 "cells": [
  {
   "cell_type": "code",
   "execution_count": null,
   "source": [
    "def solution(participant, completion):\n",
    "    #중복되지 않은 이름 출력\n",
    "    answer = list(set(participant) - set(completion))\n",
    "    if len(answer) != 0:\n",
    "        return answer[0]\n",
    "    #중복된 이름 출력\n",
    "    participant = sorted(participant)\n",
    "    completion = sorted(completion)\n",
    "    \n",
    "    for i in range(len(participant)):\n",
    "        if participant[i] != completion[i]:\n",
    "            return participant[i]"
   ],
   "outputs": [],
   "metadata": {}
  }
 ],
 "metadata": {
  "orig_nbformat": 4,
  "language_info": {
   "name": "python"
  }
 },
 "nbformat": 4,
 "nbformat_minor": 2
}