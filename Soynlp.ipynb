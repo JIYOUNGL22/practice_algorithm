{
 "cells": [
  {
   "cell_type": "code",
   "execution_count": 2,
   "id": "2939532e",
   "metadata": {
    "ExecuteTime": {
     "end_time": "2023-12-06T07:50:52.499452Z",
     "start_time": "2023-12-06T07:50:52.495999Z"
    }
   },
   "outputs": [],
   "source": [
    "# pip install Soynlp"
   ]
  },
  {
   "cell_type": "code",
   "execution_count": 21,
   "id": "4cf85fd4",
   "metadata": {
    "ExecuteTime": {
     "end_time": "2023-12-06T08:33:54.913226Z",
     "start_time": "2023-12-06T08:33:54.910174Z"
    }
   },
   "outputs": [],
   "source": [
    "# !wget https:/raw.githubusercontent.com/lovit/soynlp/master/tutorials/2016-10-20.txt -O 2016-10-20.txt"
   ]
  },
  {
   "cell_type": "code",
   "execution_count": 6,
   "id": "b4b64959",
   "metadata": {
    "ExecuteTime": {
     "end_time": "2023-12-06T08:01:12.848334Z",
     "start_time": "2023-12-06T08:01:12.619113Z"
    }
   },
   "outputs": [
    {
     "data": {
      "text/plain": [
       "30091"
      ]
     },
     "execution_count": 6,
     "metadata": {},
     "output_type": "execute_result"
    }
   ],
   "source": [
    "from soynlp import DoublespaceLineCorpus\n",
    "\n",
    "#문서 단위 말뭉치 생성\n",
    "path = 'C:/Users/dij339/Documents/Python Scripts/text_file/2016-10-20.txt'\n",
    "\n",
    "corpus = DoublespaceLineCorpus(path)\n",
    "len(corpus)"
   ]
  },
  {
   "cell_type": "code",
   "execution_count": 8,
   "id": "8b08128f",
   "metadata": {
    "ExecuteTime": {
     "end_time": "2023-12-06T08:02:37.491309Z",
     "start_time": "2023-12-06T08:02:37.487906Z"
    }
   },
   "outputs": [
    {
     "name": "stdout",
     "output_type": "stream",
     "text": [
      "0 \n",
      "1 19  1990  52 1 22\n",
      "2 오패산터널 총격전 용의자 검거 서울 연합뉴스 경찰 관계자들이 19일 오후 서울 강북구 오패산 터널 인근에서 사제 총기를 발사해 경찰을 살해한 용의자 성모씨를 검거하고 있다 성씨는 검거 당시 서바이벌 게임에서 쓰는 방탄조끼에 헬멧까지 착용한 상태였다 독자제공 영상 캡처 연합뉴스  서울 연합뉴스 김은경 기자 사제 총기로 경찰을 살해한 범인 성모 46 씨는 주도면밀했다  경찰에 따르면 성씨는 19일 오후 강북경찰서 인근 부동산 업소 밖에서 부동산업자 이모 67 씨가 나오기를 기다렸다 이씨와는 평소에도 말다툼을 자주 한 것으로 알려졌다  이씨가 나와 걷기 시작하자 성씨는 따라가면서 미리 준비해온 사제 총기를 이씨에게 발사했다 총알이 빗나가면서 이씨는 도망갔다 그 빗나간 총알은 지나가던 행인 71 씨의 배를 스쳤다  성씨는 강북서 인근 치킨집까지 이씨 뒤를 쫓으며 실랑이하다 쓰러뜨린 후 총기와 함께 가져온 망치로 이씨 머리를 때렸다  이 과정에서 오후 6시 20분께 강북구 번동 길 위에서 사람들이 싸우고 있다 총소리가 났다 는 등의 신고가 여러건 들어왔다  5분 후에 성씨의 전자발찌가 훼손됐다는 신고가 보호관찰소 시스템을 통해 들어왔다 성범죄자로 전자발찌를 차고 있던 성씨는 부엌칼로 직접 자신의 발찌를 끊었다  용의자 소지 사제총기 2정 서울 연합뉴스 임헌정 기자 서울 시내에서 폭행 용의자가 현장 조사를 벌이던 경찰관에게 사제총기를 발사해 경찰관이 숨졌다 19일 오후 6시28분 강북구 번동에서 둔기로 맞았다 는 폭행 피해 신고가 접수돼 현장에서 조사하던 강북경찰서 번동파출소 소속 김모 54 경위가 폭행 용의자 성모 45 씨가 쏜 사제총기에 맞고 쓰러진 뒤 병원에 옮겨졌으나 숨졌다 사진은 용의자가 소지한 사제총기  신고를 받고 번동파출소에서 김창호 54 경위 등 경찰들이 오후 6시 29분께 현장으로 출동했다 성씨는 그사이 부동산 앞에 놓아뒀던 가방을 챙겨 오패산 쪽으로 도망간 후였다  김 경위는 오패산 터널 입구 오른쪽의 급경사에서 성씨에게 접근하다가 오후 6시 33분께 풀숲에 숨은 성씨가 허공에 난사한 10여발의 총알 중 일부를 왼쪽 어깨 뒷부분에 맞고 쓰러졌다  김 경위는 구급차가 도착했을 때 이미 의식이 없었고 심폐소생술을 하며 병원으로 옮겨졌으나 총알이 폐를 훼손해 오후 7시 40분께 사망했다  김 경위는 외근용 조끼를 입고 있었으나 총알을 막기에는 역부족이었다  머리에 부상을 입은 이씨도 함께 병원으로 이송됐으나 생명에는 지장이 없는 것으로 알려졌다  성씨는 오패산 터널 밑쪽 숲에서 오후 6시 45분께 잡혔다  총격현장 수색하는 경찰들 서울 연합뉴스 이효석 기자 19일 오후 서울 강북구 오패산 터널 인근에서 경찰들이 폭행 용의자가 사제총기를 발사해 경찰관이 사망한 사건을 조사 하고 있다  총 때문에 쫓던 경관들과 민간인들이 몸을 숨겼는데 인근 신발가게 직원 이모씨가 다가가 성씨를 덮쳤고 이어 현장에 있던 다른 상인들과 경찰이 가세해 체포했다  성씨는 경찰에 붙잡힌 직후 나 자살하려고 한 거다 맞아 죽어도 괜찮다 고 말한 것으로 전해졌다  성씨 자신도 경찰이 발사한 공포탄 1발 실탄 3발 중 실탄 1발을 배에 맞았으나 방탄조끼를 입은 상태여서 부상하지는 않았다  경찰은 인근을 수색해 성씨가 만든 사제총 16정과 칼 7개를 압수했다 실제 폭발할지는 알 수 없는 요구르트병에 무언가를 채워두고 심지를 꽂은 사제 폭탄도 발견됐다  일부는 숲에서 발견됐고 일부는 성씨가 소지한 가방 안에 있었다\n",
      "3 테헤란 연합뉴스 강훈상 특파원 이용 승객수 기준 세계 최대 공항인 아랍에미리트 두바이국제공항은 19일 현지시간 이 공항을 이륙하는 모든 항공기의 탑승객은 삼성전자의 갤럭시노트7을 휴대하면 안 된다고 밝혔다  두바이국제공항은 여러 항공 관련 기구의 권고에 따라 안전성에 우려가 있는 스마트폰 갤럭시노트7을 휴대하고 비행기를 타면 안 된다 며 탑승 전 검색 중 발견되면 압수할 계획 이라고 발표했다  공항 측은 갤럭시노트7의 배터리가 폭발 우려가 제기된 만큼 이 제품을 갖고 공항 안으로 들어오지 말라고 이용객에 당부했다  이런 조치는 두바이국제공항 뿐 아니라 신공항인 두바이월드센터에도 적용된다  배터리 폭발문제로 회수된 갤럭시노트7 연합뉴스자료사진\n",
      "4 브뤼셀 연합뉴스 김병수 특파원 독일 정부는 19일 원자력발전소를 폐쇄하기로 함에 따라 원자력 발전소 운영자들에게 핵폐기물 처리를 지원하는 펀드에 235억 유로 260억 달러 29조 원 를 지불하도록 하는 계획을 승인했다고 언론들이 보도했다  앞서 독일은 5년 전 일본 후쿠시마 원전사태 이후 오는 2022년까지 원전 17기를 모두 폐쇄하기로 하고 오는 2050년까지 전기생산량의 80 를 재생에너지로 충당하는 것을 목표로 세웠다  이날 내각을 통과한 법안은 원전 운영자들이 원전 해체와 핵폐기물 처리를 위한 포장을 책임지고 정부는 핵폐기물 보관을 책임지도록 했다  독일 경제부는 전력회사들과 공식적인 접촉은 아직 합의되지 않았다고 밝혔다  독일 원자력 발전소 연합뉴스 자료사진\n"
     ]
    }
   ],
   "source": [
    "# 앞 5개 문서 인쇄\n",
    "i = 0\n",
    "for d in corpus:\n",
    "    print(i, d)\n",
    "    i += 1\n",
    "    if i > 4:\n",
    "        break"
   ]
  },
  {
   "cell_type": "markdown",
   "id": "47b234ef",
   "metadata": {},
   "source": [
    "# 단어 추출"
   ]
  },
  {
   "cell_type": "markdown",
   "id": "a484aa69",
   "metadata": {},
   "source": [
    "#### WordExtractor 클래스를 사용하면 형태소에 해당하는 단어를 분리하는 학습을 수행한다. 실제로는 각 단어 후보에 대해 cohesion 등의 extract() 메서드로 각 cohesion, branching entropy, accessor variety 등의 통계 수치를 계산할 수 있다."
   ]
  },
  {
   "cell_type": "code",
   "execution_count": 9,
   "id": "30a85016",
   "metadata": {
    "ExecuteTime": {
     "end_time": "2023-12-06T08:04:45.047102Z",
     "start_time": "2023-12-06T08:04:16.475488Z"
    }
   },
   "outputs": [
    {
     "name": "stdout",
     "output_type": "stream",
     "text": [
      "\r",
      "training was done. used memory 0.761 Gb\n",
      "CPU times: total: 28.5 s\n",
      "Wall time: 28.6 s\n"
     ]
    }
   ],
   "source": [
    "%%time\n",
    "from soynlp.word import WordExtractor\n",
    "\n",
    "word_extractor = WordExtractor()\n",
    "word_extractor.train(corpus)"
   ]
  },
  {
   "cell_type": "code",
   "execution_count": 10,
   "id": "e4370cab",
   "metadata": {
    "ExecuteTime": {
     "end_time": "2023-12-06T08:05:03.604216Z",
     "start_time": "2023-12-06T08:04:54.128575Z"
    }
   },
   "outputs": [
    {
     "name": "stdout",
     "output_type": "stream",
     "text": [
      "all cohesion probabilities was computed. # words = 223348\n",
      "all branching entropies was computed # words = 361598\n",
      "all accessor variety was computed # words = 361598\n"
     ]
    }
   ],
   "source": [
    "word_score = word_extractor.extract()"
   ]
  },
  {
   "cell_type": "markdown",
   "id": "fd0c8417",
   "metadata": {},
   "source": [
    "# Branching Entropy"
   ]
  },
  {
   "cell_type": "code",
   "execution_count": 11,
   "id": "2628ce9a",
   "metadata": {
    "ExecuteTime": {
     "end_time": "2023-12-06T08:19:46.842619Z",
     "start_time": "2023-12-06T08:19:46.833953Z"
    }
   },
   "outputs": [
    {
     "data": {
      "text/plain": [
       "0.4251664085353198"
      ]
     },
     "execution_count": 11,
     "metadata": {},
     "output_type": "execute_result"
    }
   ],
   "source": [
    "word_score[\"연합\"].right_branching_entropy"
   ]
  },
  {
   "cell_type": "code",
   "execution_count": 12,
   "id": "70f6a700",
   "metadata": {
    "ExecuteTime": {
     "end_time": "2023-12-06T08:20:00.340655Z",
     "start_time": "2023-12-06T08:20:00.333051Z"
    }
   },
   "outputs": [
    {
     "data": {
      "text/plain": [
       "-0.0"
      ]
     },
     "execution_count": 12,
     "metadata": {},
     "output_type": "execute_result"
    }
   ],
   "source": [
    "word_score[\"연합뉴\"].right_branching_entropy"
   ]
  },
  {
   "cell_type": "code",
   "execution_count": 13,
   "id": "c51dbee7",
   "metadata": {
    "ExecuteTime": {
     "end_time": "2023-12-06T08:20:06.085776Z",
     "start_time": "2023-12-06T08:20:06.079932Z"
    }
   },
   "outputs": [
    {
     "data": {
      "text/plain": [
       "3.892038729521627"
      ]
     },
     "execution_count": 13,
     "metadata": {},
     "output_type": "execute_result"
    }
   ],
   "source": [
    "#엔트로피 값이 높은경우 단어의 완성도가 높다고 판단한다\n",
    "word_score[\"연합뉴스\"].right_branching_entropy"
   ]
  },
  {
   "cell_type": "code",
   "execution_count": 14,
   "id": "e34a569b",
   "metadata": {
    "ExecuteTime": {
     "end_time": "2023-12-06T08:20:11.858674Z",
     "start_time": "2023-12-06T08:20:11.855587Z"
    }
   },
   "outputs": [
    {
     "data": {
      "text/plain": [
       "0.410116318288409"
      ]
     },
     "execution_count": 14,
     "metadata": {},
     "output_type": "execute_result"
    }
   ],
   "source": [
    "word_score[\"연합뉴스는\"].right_branching_entropy"
   ]
  },
  {
   "cell_type": "markdown",
   "id": "d73f831f",
   "metadata": {},
   "source": [
    "# L-토근화"
   ]
  },
  {
   "cell_type": "code",
   "execution_count": 19,
   "id": "b67ce1de",
   "metadata": {
    "ExecuteTime": {
     "end_time": "2023-12-06T08:30:55.345940Z",
     "start_time": "2023-12-06T08:30:55.305324Z"
    }
   },
   "outputs": [
    {
     "data": {
      "text/plain": [
       "[('안녕하세요', ''),\n",
       " ('손해보험', ''),\n",
       " ('상담사', ''),\n",
       " ('입니다', '.'),\n",
       " ('제가', ''),\n",
       " ('카드', ''),\n",
       " ('등록정보', ''),\n",
       " ('변경', ''),\n",
       " ('업무', '를'),\n",
       " ('도와드리겠습니다', '')]"
      ]
     },
     "execution_count": 19,
     "metadata": {},
     "output_type": "execute_result"
    }
   ],
   "source": [
    "from soynlp.tokenizer import LTokenizer\n",
    "\n",
    "scores = {word:score.cohesion_forward for word, score in word_score.items()}\n",
    "l_tokenizer = LTokenizer(scores=scores)\n",
    "\n",
    "l_tokenizer.tokenize(\"안녕하세요 손해보험 상담사 입니다. 제가 카드 등록정보 변경 업무를 도와드리겠습니다\", flatten=False)"
   ]
  },
  {
   "cell_type": "markdown",
   "id": "f18686ab",
   "metadata": {},
   "source": [
    "# 최대 점수 토큰화"
   ]
  },
  {
   "cell_type": "code",
   "execution_count": 20,
   "id": "f091b2bf",
   "metadata": {
    "ExecuteTime": {
     "end_time": "2023-12-06T08:31:47.579051Z",
     "start_time": "2023-12-06T08:31:47.574746Z"
    }
   },
   "outputs": [
    {
     "data": {
      "text/plain": [
       "['안녕하세요',\n",
       " '손해보험',\n",
       " '상담사',\n",
       " '입니다',\n",
       " '.',\n",
       " '제가',\n",
       " '카드',\n",
       " '등록',\n",
       " '정보',\n",
       " '변경',\n",
       " '업무',\n",
       " '를',\n",
       " '도와',\n",
       " '드리겠습니다']"
      ]
     },
     "execution_count": 20,
     "metadata": {},
     "output_type": "execute_result"
    }
   ],
   "source": [
    "from soynlp.tokenizer import MaxScoreTokenizer\n",
    "\n",
    "maxscore_tokenizer = MaxScoreTokenizer(scores=scores)\n",
    "maxscore_tokenizer.tokenize(\"안녕하세요 손해보험 상담사 입니다. 제가 카드 등록정보 변경 업무를 도와드리겠습니다\")"
   ]
  },
  {
   "cell_type": "code",
   "execution_count": null,
   "id": "b586034e",
   "metadata": {},
   "outputs": [],
   "source": []
  }
 ],
 "metadata": {
  "kernelspec": {
   "display_name": "Python 3 (ipykernel)",
   "language": "python",
   "name": "python3"
  },
  "language_info": {
   "codemirror_mode": {
    "name": "ipython",
    "version": 3
   },
   "file_extension": ".py",
   "mimetype": "text/x-python",
   "name": "python",
   "nbconvert_exporter": "python",
   "pygments_lexer": "ipython3",
   "version": "3.11.3"
  }
 },
 "nbformat": 4,
 "nbformat_minor": 5
}
