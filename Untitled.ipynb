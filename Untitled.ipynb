{
 "cells": [
  {
   "cell_type": "code",
   "execution_count": 1,
   "id": "ce2fcd76",
   "metadata": {
    "ExecuteTime": {
     "end_time": "2023-08-29T06:35:03.854349Z",
     "start_time": "2023-08-29T06:35:03.340991Z"
    }
   },
   "outputs": [],
   "source": [
    "import pandas as pd"
   ]
  },
  {
   "cell_type": "code",
   "execution_count": 15,
   "id": "acb628d3",
   "metadata": {
    "ExecuteTime": {
     "end_time": "2023-08-29T06:46:33.781973Z",
     "start_time": "2023-08-29T06:46:33.074214Z"
    }
   },
   "outputs": [],
   "source": [
    "file = r'C:\\Users\\dij339\\Documents\\Python Scripts\\excel\\df.xls'\n",
    "df = pd.read_excel(file)"
   ]
  },
  {
   "cell_type": "code",
   "execution_count": 16,
   "id": "e530d115",
   "metadata": {
    "ExecuteTime": {
     "end_time": "2023-08-29T06:46:37.819807Z",
     "start_time": "2023-08-29T06:46:37.800378Z"
    }
   },
   "outputs": [
    {
     "data": {
      "text/html": [
       "<div>\n",
       "<style scoped>\n",
       "    .dataframe tbody tr th:only-of-type {\n",
       "        vertical-align: middle;\n",
       "    }\n",
       "\n",
       "    .dataframe tbody tr th {\n",
       "        vertical-align: top;\n",
       "    }\n",
       "\n",
       "    .dataframe thead th {\n",
       "        text-align: right;\n",
       "    }\n",
       "</style>\n",
       "<table border=\"1\" class=\"dataframe\">\n",
       "  <thead>\n",
       "    <tr style=\"text-align: right;\">\n",
       "      <th></th>\n",
       "      <th>비용코드</th>\n",
       "      <th>비용코드명</th>\n",
       "      <th>물품구분</th>\n",
       "      <th>대표어</th>\n",
       "      <th>물품명</th>\n",
       "      <th>유사어</th>\n",
       "    </tr>\n",
       "  </thead>\n",
       "  <tbody>\n",
       "    <tr>\n",
       "      <th>0</th>\n",
       "      <td>221</td>\n",
       "      <td>재료비</td>\n",
       "      <td>기타</td>\n",
       "      <td>NaN</td>\n",
       "      <td>- Air Filter</td>\n",
       "      <td>NaN</td>\n",
       "    </tr>\n",
       "    <tr>\n",
       "      <th>1</th>\n",
       "      <td>221</td>\n",
       "      <td>재료비</td>\n",
       "      <td>기타</td>\n",
       "      <td>NaN</td>\n",
       "      <td>- Coalescent Filter Element</td>\n",
       "      <td>NaN</td>\n",
       "    </tr>\n",
       "    <tr>\n",
       "      <th>2</th>\n",
       "      <td>221</td>\n",
       "      <td>재료비</td>\n",
       "      <td>기타</td>\n",
       "      <td>NaN</td>\n",
       "      <td>- Line Filter Element</td>\n",
       "      <td>NaN</td>\n",
       "    </tr>\n",
       "    <tr>\n",
       "      <th>3</th>\n",
       "      <td>221</td>\n",
       "      <td>재료비</td>\n",
       "      <td>기타</td>\n",
       "      <td>NaN</td>\n",
       "      <td>- Oil (RCH-3000S)</td>\n",
       "      <td>NaN</td>\n",
       "    </tr>\n",
       "    <tr>\n",
       "      <th>4</th>\n",
       "      <td>221</td>\n",
       "      <td>재료비</td>\n",
       "      <td>기타</td>\n",
       "      <td>NaN</td>\n",
       "      <td>- Oil Filter</td>\n",
       "      <td>NaN</td>\n",
       "    </tr>\n",
       "    <tr>\n",
       "      <th>...</th>\n",
       "      <td>...</td>\n",
       "      <td>...</td>\n",
       "      <td>...</td>\n",
       "      <td>...</td>\n",
       "      <td>...</td>\n",
       "      <td>...</td>\n",
       "    </tr>\n",
       "    <tr>\n",
       "      <th>45504</th>\n",
       "      <td>228</td>\n",
       "      <td>기타일반용품</td>\n",
       "      <td>기타</td>\n",
       "      <td>힌지외 1건</td>\n",
       "      <td>힌지외 1건</td>\n",
       "      <td>NaN</td>\n",
       "    </tr>\n",
       "    <tr>\n",
       "      <th>45505</th>\n",
       "      <td>221</td>\n",
       "      <td>재료비</td>\n",
       "      <td>기타</td>\n",
       "      <td>힌지핀</td>\n",
       "      <td>힌지핀</td>\n",
       "      <td>힌지핀</td>\n",
       "    </tr>\n",
       "    <tr>\n",
       "      <th>45506</th>\n",
       "      <td>221</td>\n",
       "      <td>재료비</td>\n",
       "      <td>기타</td>\n",
       "      <td>힌지핀 및 스프링</td>\n",
       "      <td>힌지핀 및 스프링</td>\n",
       "      <td>힌지핀 스프링</td>\n",
       "    </tr>\n",
       "    <tr>\n",
       "      <th>45507</th>\n",
       "      <td>327</td>\n",
       "      <td>기타유지비</td>\n",
       "      <td>기타</td>\n",
       "      <td>힘 측정기</td>\n",
       "      <td>힘 측정기(기계식)</td>\n",
       "      <td>힘측정기,힘측정</td>\n",
       "    </tr>\n",
       "    <tr>\n",
       "      <th>45508</th>\n",
       "      <td>221</td>\n",
       "      <td>재료비</td>\n",
       "      <td>기타</td>\n",
       "      <td>힘센서</td>\n",
       "      <td>힘센서 외</td>\n",
       "      <td>힘센서,힘샌서</td>\n",
       "    </tr>\n",
       "  </tbody>\n",
       "</table>\n",
       "<p>45509 rows × 6 columns</p>\n",
       "</div>"
      ],
      "text/plain": [
       "      비용코드   비용코드명 물품구분        대표어                          물품명       유사어\n",
       "0      221     재료비   기타        NaN                 - Air Filter       NaN\n",
       "1      221     재료비   기타        NaN  - Coalescent Filter Element       NaN\n",
       "2      221     재료비   기타        NaN        - Line Filter Element       NaN\n",
       "3      221     재료비   기타        NaN            - Oil (RCH-3000S)       NaN\n",
       "4      221     재료비   기타        NaN                 - Oil Filter       NaN\n",
       "...    ...     ...  ...        ...                          ...       ...\n",
       "45504  228  기타일반용품   기타     힌지외 1건                       힌지외 1건       NaN\n",
       "45505  221     재료비   기타        힌지핀                          힌지핀       힌지핀\n",
       "45506  221     재료비   기타  힌지핀 및 스프링                    힌지핀 및 스프링   힌지핀 스프링\n",
       "45507  327   기타유지비   기타      힘 측정기                   힘 측정기(기계식)  힘측정기,힘측정\n",
       "45508  221     재료비   기타        힘센서                        힘센서 외   힘센서,힘샌서\n",
       "\n",
       "[45509 rows x 6 columns]"
      ]
     },
     "execution_count": 16,
     "metadata": {},
     "output_type": "execute_result"
    }
   ],
   "source": [
    "df"
   ]
  },
  {
   "cell_type": "code",
   "execution_count": null,
   "id": "77282816",
   "metadata": {},
   "outputs": [],
   "source": []
  }
 ],
 "metadata": {
  "kernelspec": {
   "display_name": "Python 3 (ipykernel)",
   "language": "python",
   "name": "python3"
  },
  "language_info": {
   "codemirror_mode": {
    "name": "ipython",
    "version": 3
   },
   "file_extension": ".py",
   "mimetype": "text/x-python",
   "name": "python",
   "nbconvert_exporter": "python",
   "pygments_lexer": "ipython3",
   "version": "3.11.3"
  }
 },
 "nbformat": 4,
 "nbformat_minor": 5
}
