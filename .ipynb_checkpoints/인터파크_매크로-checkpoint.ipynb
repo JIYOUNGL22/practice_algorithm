{
 "cells": [
  {
   "cell_type": "code",
   "execution_count": 1,
   "id": "2c8f01c8",
   "metadata": {},
   "outputs": [],
   "source": [
    "#import easyocr\n",
    "import time\n",
    "from selenium import webdriver\n",
    "from selenium.webdriver.common.keys import Keys\n",
    "from selenium.webdriver.common.by import By"
   ]
  },
  {
   "cell_type": "code",
   "execution_count": 2,
   "id": "a75946c0",
   "metadata": {},
   "outputs": [],
   "source": [
    "# setup Driver|Chrome : 크롬드라이버를 사용하는 driver 생성\n",
    "driver=webdriver.Chrome(\"C:/Users/dij339/Documents/Python Scripts/chromedriver.exe\")\n",
    "# 사이즈조절\n",
    "driver.set_window_size(1400, 1000)\n",
    "driver.get('https://ticket.interpark.com/Gate/TPLogin.asp')"
   ]
  },
  {
   "cell_type": "code",
   "execution_count": 3,
   "id": "d780a7e7",
   "metadata": {},
   "outputs": [
    {
     "ename": "NoSuchElementException",
     "evalue": "Message: no such element: Unable to locate element: {\"method\":\"xpath\",\"selector\":\"//*[@id='popup-prdGuide']/div/div[3]/button\"}\n  (Session info: chrome=114.0.5735.110)\n",
     "output_type": "error",
     "traceback": [
      "\u001b[1;31m---------------------------------------------------------------------------\u001b[0m",
      "\u001b[1;31mNoSuchElementException\u001b[0m                    Traceback (most recent call last)",
      "Cell \u001b[1;32mIn[3], line 13\u001b[0m\n\u001b[0;32m      9\u001b[0m driver\u001b[38;5;241m.\u001b[39mget(\u001b[38;5;124m'\u001b[39m\u001b[38;5;124mhttps://ticket.interpark.com/Ticket/Goods/GoodsInfo.asp?GoodsCode=\u001b[39m\u001b[38;5;124m'\u001b[39m \u001b[38;5;241m+\u001b[39m \u001b[38;5;124m'\u001b[39m\u001b[38;5;124m23011026\u001b[39m\u001b[38;5;124m'\u001b[39m)\n\u001b[0;32m     11\u001b[0m \u001b[38;5;66;03m#time.sleep(1)\u001b[39;00m\n\u001b[1;32m---> 13\u001b[0m driver\u001b[38;5;241m.\u001b[39mfind_element(By\u001b[38;5;241m.\u001b[39mXPATH, \u001b[38;5;124m\"\u001b[39m\u001b[38;5;124m//*[@id=\u001b[39m\u001b[38;5;124m'\u001b[39m\u001b[38;5;124mpopup-prdGuide\u001b[39m\u001b[38;5;124m'\u001b[39m\u001b[38;5;124m]/div/div[3]/button\u001b[39m\u001b[38;5;124m\"\u001b[39m)\u001b[38;5;241m.\u001b[39mclick()\n\u001b[0;32m     14\u001b[0m driver\u001b[38;5;241m.\u001b[39mfind_element(By\u001b[38;5;241m.\u001b[39mXPATH, \u001b[38;5;124m\"\u001b[39m\u001b[38;5;124m//*[@id=\u001b[39m\u001b[38;5;124m'\u001b[39m\u001b[38;5;124mproductSide\u001b[39m\u001b[38;5;124m'\u001b[39m\u001b[38;5;124m]/div/div[2]/a[1]\u001b[39m\u001b[38;5;124m\"\u001b[39m)\u001b[38;5;241m.\u001b[39mclick()\n\u001b[0;32m     16\u001b[0m \u001b[38;5;66;03m# 예매하기 눌러서 팝업창이 뜨면 포커스를 새창으로 바꿔준다\u001b[39;00m\n",
      "File \u001b[1;32m~\\anaconda3\\Lib\\site-packages\\selenium\\webdriver\\remote\\webdriver.py:976\u001b[0m, in \u001b[0;36mWebDriver.find_element\u001b[1;34m(self, by, value)\u001b[0m\n\u001b[0;32m    974\u001b[0m         by \u001b[38;5;241m=\u001b[39m By\u001b[38;5;241m.\u001b[39mCSS_SELECTOR\n\u001b[0;32m    975\u001b[0m         value \u001b[38;5;241m=\u001b[39m \u001b[38;5;124m'\u001b[39m\u001b[38;5;124m[name=\u001b[39m\u001b[38;5;124m\"\u001b[39m\u001b[38;5;132;01m%s\u001b[39;00m\u001b[38;5;124m\"\u001b[39m\u001b[38;5;124m]\u001b[39m\u001b[38;5;124m'\u001b[39m \u001b[38;5;241m%\u001b[39m value\n\u001b[1;32m--> 976\u001b[0m \u001b[38;5;28;01mreturn\u001b[39;00m \u001b[38;5;28mself\u001b[39m\u001b[38;5;241m.\u001b[39mexecute(Command\u001b[38;5;241m.\u001b[39mFIND_ELEMENT, {\n\u001b[0;32m    977\u001b[0m     \u001b[38;5;124m'\u001b[39m\u001b[38;5;124musing\u001b[39m\u001b[38;5;124m'\u001b[39m: by,\n\u001b[0;32m    978\u001b[0m     \u001b[38;5;124m'\u001b[39m\u001b[38;5;124mvalue\u001b[39m\u001b[38;5;124m'\u001b[39m: value})[\u001b[38;5;124m'\u001b[39m\u001b[38;5;124mvalue\u001b[39m\u001b[38;5;124m'\u001b[39m]\n",
      "File \u001b[1;32m~\\anaconda3\\Lib\\site-packages\\selenium\\webdriver\\remote\\webdriver.py:321\u001b[0m, in \u001b[0;36mWebDriver.execute\u001b[1;34m(self, driver_command, params)\u001b[0m\n\u001b[0;32m    319\u001b[0m response \u001b[38;5;241m=\u001b[39m \u001b[38;5;28mself\u001b[39m\u001b[38;5;241m.\u001b[39mcommand_executor\u001b[38;5;241m.\u001b[39mexecute(driver_command, params)\n\u001b[0;32m    320\u001b[0m \u001b[38;5;28;01mif\u001b[39;00m response:\n\u001b[1;32m--> 321\u001b[0m     \u001b[38;5;28mself\u001b[39m\u001b[38;5;241m.\u001b[39merror_handler\u001b[38;5;241m.\u001b[39mcheck_response(response)\n\u001b[0;32m    322\u001b[0m     response[\u001b[38;5;124m'\u001b[39m\u001b[38;5;124mvalue\u001b[39m\u001b[38;5;124m'\u001b[39m] \u001b[38;5;241m=\u001b[39m \u001b[38;5;28mself\u001b[39m\u001b[38;5;241m.\u001b[39m_unwrap_value(\n\u001b[0;32m    323\u001b[0m         response\u001b[38;5;241m.\u001b[39mget(\u001b[38;5;124m'\u001b[39m\u001b[38;5;124mvalue\u001b[39m\u001b[38;5;124m'\u001b[39m, \u001b[38;5;28;01mNone\u001b[39;00m))\n\u001b[0;32m    324\u001b[0m     \u001b[38;5;28;01mreturn\u001b[39;00m response\n",
      "File \u001b[1;32m~\\anaconda3\\Lib\\site-packages\\selenium\\webdriver\\remote\\errorhandler.py:242\u001b[0m, in \u001b[0;36mErrorHandler.check_response\u001b[1;34m(self, response)\u001b[0m\n\u001b[0;32m    240\u001b[0m         alert_text \u001b[38;5;241m=\u001b[39m value[\u001b[38;5;124m'\u001b[39m\u001b[38;5;124malert\u001b[39m\u001b[38;5;124m'\u001b[39m]\u001b[38;5;241m.\u001b[39mget(\u001b[38;5;124m'\u001b[39m\u001b[38;5;124mtext\u001b[39m\u001b[38;5;124m'\u001b[39m)\n\u001b[0;32m    241\u001b[0m     \u001b[38;5;28;01mraise\u001b[39;00m exception_class(message, screen, stacktrace, alert_text)\n\u001b[1;32m--> 242\u001b[0m \u001b[38;5;28;01mraise\u001b[39;00m exception_class(message, screen, stacktrace)\n",
      "\u001b[1;31mNoSuchElementException\u001b[0m: Message: no such element: Unable to locate element: {\"method\":\"xpath\",\"selector\":\"//*[@id='popup-prdGuide']/div/div[3]/button\"}\n  (Session info: chrome=114.0.5735.110)\n"
     ]
    }
   ],
   "source": [
    "driver.switch_to.frame(driver.find_element(By.XPATH, \"//div[@class='leftLoginBox']/iframe[@title='login']\"))\n",
    "userId = driver.find_element(By.ID, 'userId')\n",
    "userId.send_keys('ljy4292')\n",
    "userPwd = driver.find_element(By.ID, \"userPwd\")\n",
    "userPwd.send_keys('10Dlwldud!i')\n",
    "userPwd.send_keys(Keys.ENTER)\n",
    "\n",
    "goodsCode = 99999989\n",
    "driver.get('https://ticket.interpark.com/Ticket/Goods/GoodsInfo.asp?GoodsCode=' + '23011026')\n",
    "\n",
    "#time.sleep(1)\n",
    "\n",
    "driver.find_element(By.XPATH, \"//*[@id='popup-prdGuide']/div/div[3]/button\").click()\n",
    "driver.find_element(By.XPATH, \"//*[@id='productSide']/div/div[2]/a[1]\").click()\n",
    "\n",
    "# 예매하기 눌러서 팝업창이 뜨면 포커스를 새창으로 바꿔준다\n",
    "driver.switch_to.window(driver.window_handles[1])\n",
    "# driver.get_window_position(driver.window_handles[1])\n",
    "\n",
    "# iframe 이동\n",
    "time.sleep(1)\n",
    "driver.switch_to.frame(driver.find_element(By.XPATH, \"//*[@id='ifrmSeat']\"))\n",
    "\n",
    "# 입력해야될 문자 이미지 캡쳐하기.\n",
    "capchaPng = driver.find_element(By.XPATH, \"//*[@id='imgCaptcha']\")\n",
    "\n",
    "# easyocr 이미지내 인식할 언어 지정\n",
    "reader = easyocr.Reader(['en'])\n",
    "# 캡쳐한 이미지에서 문자열 인식하기\n",
    "result = reader.readtext(capchaPng.screenshot_as_png, detail=0)\n",
    "\n",
    "# 이미지에 점과 직선이 포함되어있어서 문자 인식이 완벽하지 않아서 데이터를 수동으로 보정해주기로 했습니다.\n",
    "capchaValue = result[0].replace(' ', '').replace('5', 'S').replace('0', 'O').replace('$', 'S').replace(',', '')\\\n",
    "    .replace(':', '').replace('.', '').replace('+', 'T').replace(\"'\", '').replace('`', '')\\\n",
    "    .replace('1', 'L').replace('e', 'Q').replace('3', 'S').replace('€', 'C').replace('{', '').replace('-', '')\n",
    "\n",
    "# 입력할 텍스트박스 클릭하기.\n",
    "driver.find_element_by_class_name('validationTxt').click()\n",
    "# 추출된 문자열 텍스트박스에 입력하기.\n",
    "chapchaText = driver.find_element_by_id('txtCaptcha')\n",
    "chapchaText.send_keys(capchaValue)\n",
    "\n",
    "#chapchaText.send_keys(Keys.ENTER)"
   ]
  },
  {
   "cell_type": "code",
   "execution_count": 8,
   "id": "98ce30b0",
   "metadata": {},
   "outputs": [],
   "source": [
    "import time"
   ]
  },
  {
   "cell_type": "code",
   "execution_count": null,
   "id": "e762a66c",
   "metadata": {},
   "outputs": [],
   "source": []
  }
 ],
 "metadata": {
  "kernelspec": {
   "display_name": "Python 3 (ipykernel)",
   "language": "python",
   "name": "python3"
  },
  "language_info": {
   "codemirror_mode": {
    "name": "ipython",
    "version": 3
   },
   "file_extension": ".py",
   "mimetype": "text/x-python",
   "name": "python",
   "nbconvert_exporter": "python",
   "pygments_lexer": "ipython3",
   "version": "3.11.3"
  }
 },
 "nbformat": 4,
 "nbformat_minor": 5
}
