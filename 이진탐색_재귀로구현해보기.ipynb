{
 "cells": [
  {
   "cell_type": "code",
   "execution_count": null,
   "id": "c0a8bae5",
   "metadata": {},
   "outputs": [],
   "source": [
    "이진 탐색 알고리즘을 이미 반복문으로는 구현해 보셨죠? 이번에는 재귀적으로 문제를 해결해 보세요.\n",
    "\n",
    "반드시 재귀(recursion)의 개념을 사용하셔야 합니다. 코드 구현이 꽤 어려우니, 천천히 고민해 보시기 바랍니다. 다른 재귀 문제를 풀 때와 마찬가지로 base case와 recursive case를 생각해 내는 것이 핵심입니다!\n"
   ]
  },
  {
   "cell_type": "code",
   "execution_count": 1,
   "id": "7174c11d",
   "metadata": {},
   "outputs": [
    {
     "name": "stdout",
     "output_type": "stream",
     "text": [
      "0\n",
      "None\n",
      "2\n",
      "1\n",
      "4\n"
     ]
    }
   ],
   "source": [
    "def binary_search(element, some_list, start_index=0, end_index=None):\n",
    "    # end_index가 따로 주어지지 않은 경우에는 리스트의 마지막 인덱스\n",
    "    if end_index == None:\n",
    "        end_index = len(some_list) - 1\n",
    "    \n",
    "    \n",
    "    if start_index > end_index:\n",
    "        return None\n",
    "    mid = (start_index + end_index) // 2\n",
    "        \n",
    "    if some_list[mid] == element:\n",
    "        return mid\n",
    "    elif some_list[mid] > element:\n",
    "        return binary_search(element, some_list, start_index, mid -1)\n",
    "        \n",
    "    else:\n",
    "        return binary_search(element, some_list, mid+1, end_index)\n",
    "print(binary_search(2, [2, 3, 5, 7, 11]))\n",
    "print(binary_search(0, [2, 3, 5, 7, 11]))\n",
    "print(binary_search(5, [2, 3, 5, 7, 11]))\n",
    "print(binary_search(3, [2, 3, 5, 7, 11]))\n",
    "print(binary_search(11, [2, 3, 5, 7, 11]))"
   ]
  },
  {
   "cell_type": "code",
   "execution_count": null,
   "id": "ddf51ee3",
   "metadata": {},
   "outputs": [],
   "source": []
  }
 ],
 "metadata": {
  "kernelspec": {
   "display_name": "Python 3 (ipykernel)",
   "language": "python",
   "name": "python3"
  },
  "language_info": {
   "codemirror_mode": {
    "name": "ipython",
    "version": 3
   },
   "file_extension": ".py",
   "mimetype": "text/x-python",
   "name": "python",
   "nbconvert_exporter": "python",
   "pygments_lexer": "ipython3",
   "version": "3.7.0"
  },
  "toc": {
   "base_numbering": 1,
   "nav_menu": {},
   "number_sections": true,
   "sideBar": true,
   "skip_h1_title": false,
   "title_cell": "Table of Contents",
   "title_sidebar": "Contents",
   "toc_cell": false,
   "toc_position": {},
   "toc_section_display": true,
   "toc_window_display": false
  }
 },
 "nbformat": 4,
 "nbformat_minor": 5
}
