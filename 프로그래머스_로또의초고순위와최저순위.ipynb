{
 "cells": [
  {
   "cell_type": "code",
   "execution_count": null,
   "source": [
    "def solution(lottos, win_nums):\n",
    "    count = len(set(lottos) & set(win_nums))\n",
    "    zero = lottos.count(0)\n",
    "\n",
    "    return [7-max(count+zero,1), 7-max(count, 1)]"
   ],
   "outputs": [],
   "metadata": {}
  }
 ],
 "metadata": {
  "orig_nbformat": 4,
  "language_info": {
   "name": "python"
  }
 },
 "nbformat": 4,
 "nbformat_minor": 2
}